{
 "cells": [
  {
   "cell_type": "code",
   "execution_count": 41,
   "metadata": {},
   "outputs": [],
   "source": [
    "import numpy as np\n",
    "import matplotlib.pyplot as plt\n",
    "import pandas as pd\n",
    "import keras \n",
    "from keras.datasets import mnist"
   ]
  },
  {
   "cell_type": "markdown",
   "metadata": {},
   "source": [
    "### MNIST Data set neural network from scratch. In this exercise I have built out the structure and associated math for a simple feed forward neural network. In this example we will explore: \n",
    "- Matrix Manipulation\n",
    "- Feed Forward Network with Dense Layers\n",
    "- Categorical Cross Entropy Loss\n",
    "- Partial Derivatives for Backpropagation\n",
    "- Updating model parameters"
   ]
  },
  {
   "cell_type": "code",
   "execution_count": 42,
   "metadata": {},
   "outputs": [],
   "source": [
    "(train_features, train_targets), (test_features, test_targets) = mnist.load_data()"
   ]
  },
  {
   "cell_type": "code",
   "execution_count": 43,
   "metadata": {},
   "outputs": [
    {
     "name": "stdout",
     "output_type": "stream",
     "text": [
      "(60000, 784)\n",
      "(10000, 784)\n",
      "(60000,)\n",
      "(10000,)\n"
     ]
    }
   ],
   "source": [
    "# Format test and training data as 784 pixel vectors\n",
    "train_features = train_features.reshape((60000, 28 * 28))\n",
    "print(train_features.shape)\n",
    "test_features = test_features.reshape((10000, 28 * 28))\n",
    "print(test_features.shape)\n",
    "\n",
    "train_features = train_features.astype('float32') / 255\n",
    "test_features = test_features.astype('float32') / 255\n",
    "\n",
    "print(train_targets.shape)\n",
    "print(test_targets.shape)"
   ]
  },
  {
   "cell_type": "code",
   "execution_count": 44,
   "metadata": {},
   "outputs": [],
   "source": [
    "# Set up test and training data\n",
    "X_train = train_features\n",
    "y_train = train_targets\n",
    "X_test = test_features\n",
    "y_test = test_targets"
   ]
  },
  {
   "cell_type": "code",
   "execution_count": 45,
   "metadata": {},
   "outputs": [
    {
     "data": {
      "image/png": "[encoded data removed]",
      "text/plain": [
       "<Figure size 500x500 with 5 Axes>"
      ]
     },
     "metadata": {},
     "output_type": "display_data"
    },
    {
     "name": "stdout",
     "output_type": "stream",
     "text": [
      "label for each of the above images:  [5 0 4 1 9]\n"
     ]
    }
   ],
   "source": [
    "%matplotlib inline\n",
    "import matplotlib.pyplot as plt\n",
    "plt.figure(figsize=(5,5))\n",
    "for i in range(5):\n",
    "    plt.subplot(1, 5, i + 1)\n",
    "    plt.imshow(X_train[i].reshape(28, 28), cmap='gray')\n",
    "    plt.axis('off')\n",
    "plt.show()\n",
    "print(\"label for each of the above images: \", y_train[:5])"
   ]
  },
  {
   "cell_type": "markdown",
   "metadata": {},
   "source": [
    "#### Create Class Variables for Neural Network Architecture such as\n",
    "1. Dense Layers\n",
    "2. ReLU Layers\n",
    "3. Softmax activation function\n",
    "4. Categorical Cross Entropy Loss"
   ]
  },
  {
   "cell_type": "code",
   "execution_count": 46,
   "metadata": {},
   "outputs": [],
   "source": [
    "class DenseLayer: \n",
    "\n",
    "    def __init__(self, input_size, output_size):\n",
    "        self.W, self.b = self.init_params(input_size, output_size)\n",
    "        self.params = [self.W, self.b]\n",
    "        self.gradW = None\n",
    "        self.gradB = None\n",
    "        self.gradInput = None\n",
    "        \n",
    "    def init_params(self, input_size, output_size):\n",
    "        # Initialize weights and biases\n",
    "        W = np.random.randn(output_size, input_size) * 0.01\n",
    "        b = np.zeros((output_size, 1))\n",
    "        return W, b\n",
    "\n",
    "    def forward(self, X):\n",
    "        \"\"\"\n",
    "            Input: X (input data) or A[L-1] (activations from previous layer)\n",
    "            Output: Z[L] (output of the layer) where Z[L] = W[L] @ A[L-1] + b[L]\n",
    "        \"\"\"\n",
    "        self.A = X\n",
    "        self.Z = self.W @ self.A + self.b\n",
    "        return self.Z\n",
    "    \n",
    "    def backward(self, nextGradient):\n",
    "        # back propogate the layers where dL/dW[L] = dL/dZ[L] @ A[L-1].T \n",
    "        self.dW = nextGradient @ self.A.T\n",
    "        # db is sum of the gradients over all samples\n",
    "        self.db = np.sum(nextGradient, axis=1, keepdims=True)\n",
    "        # set up next grad input where dL/dA[L-1] = dL/dZ[L] @ W[L].T\n",
    "        self.gradInput = self.W.T @ nextGradient\n",
    "        return self.gradInput, [self.dW, self.db]\n",
    "    \n",
    "    def __str__(self):\n",
    "        return f\"W Dimension: {self.W.shape}\\nb Dimension: {self.b.shape}\""
   ]
  },
  {
   "cell_type": "code",
   "execution_count": 47,
   "metadata": {},
   "outputs": [],
   "source": [
    "class ReLU:\n",
    "    def __init__(self):\n",
    "        self.params = []\n",
    "        self.gradInput = None\n",
    "\n",
    "    def forward(self, Z):\n",
    "        \"\"\"\n",
    "            Input: Pass non activated Z[L] to ReLU\n",
    "            Output: A[L] = ReLU(Z[L]) where Z[L] = W[L] @ A[L-1] + b[L]\n",
    "        \"\"\" \n",
    "        self.Z = Z\n",
    "        self.A = np.maximum(Z, 0)\n",
    "        return self.A\n",
    "    \n",
    "    def backward(self, nextGrad):\n",
    "        \"\"\"\n",
    "            Input: nextGrad (gradient from next layer)\n",
    "            Output: gradInput (gradient of the loss with respect to the input of this layer)\n",
    "        \"\"\"\n",
    "        self.gradInput = nextGrad.copy()\n",
    "        self.gradInput[self.A <= 0] = 0\n",
    "        return self.gradInput, []\n",
    "\n",
    "    def __str__(self):\n",
    "        return f\"ReLU Activation\""
   ]
  },
  {
   "cell_type": "code",
   "execution_count": 48,
   "metadata": {},
   "outputs": [],
   "source": [
    "class CategoricalCrossEntropyLoss():\n",
    "    def __init__(self):\n",
    "        self.params = []\n",
    "    \n",
    "    def forward(self, y_true, y_pred):\n",
    "        \"\"\"\n",
    "            Input: y_true (actual labels) and y_pred (predicted labels)\n",
    "            Output: Loss value\n",
    "        \"\"\"\n",
    "        self.y_true = y_true\n",
    "        self.y_pred = np.clip(y_pred, 1e-15, 1 - 1e-15) \n",
    "        \n",
    "        # shape is 10 x m thus sum down columns with axis = 0 \n",
    "        self.loss = -np.mean(np.sum(self.y_true * np.log(self.y_pred), axis = 0))\n",
    "        return self.loss\n",
    "    \n",
    "    def backward(self, y_true, y_pred):\n",
    "        \"\"\"\n",
    "            Input: y_true (actual labels) and y_pred (predicted labels)\n",
    "            Output: Gradient of the loss with respect to the predicted labels\n",
    "        \"\"\"\n",
    "        grad = y_pred.copy()         # shape: (10, 60000)\n",
    "        grad -= y_true               # element-wise subtraction\n",
    "        grad /= y_true.shape[1]      # divide by 60000 (the number of samples)\n",
    "        return grad\n",
    "    \n",
    "    def __str__(self):\n",
    "        return f\"Categorical Cross Entropy Loss\""
   ]
  },
  {
   "cell_type": "code",
   "execution_count": 49,
   "metadata": {},
   "outputs": [],
   "source": [
    "def softmax(x):\n",
    "    \"\"\"\n",
    "        Softmax function to convert logits to probabilities\n",
    "        Input: x (logits)\n",
    "        Output: softmax(x) (probabilities)\n",
    "    \"\"\"\n",
    "    e_x = np.exp(x - np.max(x))\n",
    "    return e_x / e_x.sum(axis=0)\n",
    "\n",
    "def one_hot_encode(y, num_classes):\n",
    "    \"\"\"\n",
    "        One-hot encode the labels\n",
    "        Input: y (labels) and num_classes (number of classes)\n",
    "        Output: one-hot encoded labels\n",
    "    \"\"\"\n",
    "    return np.eye(num_classes)[y].T"
   ]
  },
  {
   "cell_type": "code",
   "execution_count": 50,
   "metadata": {},
   "outputs": [],
   "source": [
    "class NeuralNetwork():\n",
    "    def __init__(self, layers, loss_function=CategoricalCrossEntropyLoss()):\n",
    "        \"\"\"\n",
    "        Neural Network class to hold the layers, loss function, and training methods.\n",
    "        Input: layers (list of layers) and loss_function (loss function)\n",
    "        \"\"\"\n",
    "        self.layers = layers\n",
    "        self.params = [layer.params for layer in layers if hasattr(layer, 'params')]\n",
    "        self.grads = []\n",
    "        self.loss_function = loss_function\n",
    "\n",
    "    def forward(self, X):\n",
    "        for layer in self.layers:\n",
    "            X = layer.forward(X)\n",
    "        return X\n",
    "\n",
    "    def backward(self, y_true, y_pred):\n",
    "        self.grads = []\n",
    "        next_grad = self.loss_function.backward(y_true, y_pred)\n",
    "        for layer in reversed(self.layers):\n",
    "            next_grad, grad = layer.backward(next_grad)\n",
    "            self.grads.append(grad)\n",
    "        # Reverse grads so they align with the order of self.layers\n",
    "        self.grads.reverse()\n",
    "        return self.grads\n",
    "\n",
    "    def predict(self, X):\n",
    "        \"\"\"\n",
    "        Input: X (input data)\n",
    "        Output: y_pred (predicted labels)\n",
    "        \"\"\"\n",
    "        y_pred = self.forward(X)\n",
    "        y_hat = softmax(y_pred)\n",
    "        return np.argmax(y_hat, axis=0)\n",
    "\n",
    "    def update_params(self, learning_rate=0.01):\n",
    "        \"\"\"\n",
    "        Update parameters using gradient descent.\n",
    "        Input: learning_rate (learning rate for the update)\n",
    "        \"\"\"\n",
    "        for layer, grad in zip(self.layers, self.grads):\n",
    "            if hasattr(layer, 'params'):\n",
    "                for i, _ in enumerate(layer.params):\n",
    "                    layer.params[i] -= learning_rate * grad[i]\n",
    "\n",
    "    def accuracy(self, y_true, y_hat):\n",
    "        return np.mean(y_true == y_hat)\n",
    "                    \n",
    "    def fit(self, X_train, y_train, epochs=1, learning_rate=0.01, batch_size=32):\n",
    "        \"\"\"\n",
    "        Train the network using mini-batch gradient descent.\n",
    "        X_train: Training data with shape (n_samples, n_features)\n",
    "        y_train: Training labels (n_samples,)\n",
    "        \"\"\"\n",
    "        n_samples = X_train.shape[0]\n",
    "        num_classes = len(np.unique(y_train))  # or infer from your problem\n",
    "        loss_epochs = []\n",
    "        accuracy_epochs = []\n",
    "\n",
    "        for epoch in range(epochs):\n",
    "            # Randomly shuffle the training data at the beginning of each epoch\n",
    "            indices = np.arange(n_samples)\n",
    "            np.random.shuffle(indices)\n",
    "            X_train_shuffled = X_train[indices]\n",
    "            y_train_shuffled = y_train[indices]\n",
    "\n",
    "            epoch_loss = 0\n",
    "            # Process mini batches\n",
    "            for start in range(0, n_samples, batch_size):\n",
    "                end = start + batch_size\n",
    "                X_batch = X_train_shuffled[start:end]  # shape: (batch_size, n_features)\n",
    "                y_batch = y_train_shuffled[start:end]    # shape: (batch_size,)\n",
    "\n",
    "                # Transpose to match your network's expected shape: (n_features, batch_size)\n",
    "                X_batch_T = X_batch.T\n",
    "\n",
    "                # Forward pass\n",
    "                y_pred = self.forward(X_batch_T)\n",
    "                y_hat = softmax(y_pred)\n",
    "\n",
    "                # One-hot encode the true labels for the batch.\n",
    "                # Expecting shape: (num_classes, batch_size)\n",
    "                y_true = one_hot_encode(y_batch, num_classes)\n",
    "\n",
    "                # Compute batch loss\n",
    "                loss_batch = self.loss_function.forward(y_true, y_hat)\n",
    "                epoch_loss += loss_batch * X_batch.shape[0]\n",
    "\n",
    "                # Backward pass and update parameters\n",
    "                self.backward(y_true, y_hat)\n",
    "                self.update_params(learning_rate)\n",
    "\n",
    "            # Average epoch loss over all samples\n",
    "            avg_epoch_loss = epoch_loss / n_samples\n",
    "            loss_epochs.append(avg_epoch_loss)\n",
    "\n",
    "            # Compute accuracy over the entire training set (or you can use a validation set)\n",
    "            y_pred_train = self.forward(X_train.T)\n",
    "            y_hat_train = softmax(y_pred_train)\n",
    "            predictions = np.argmax(y_hat_train, axis=0)\n",
    "            epoch_accuracy = self.accuracy(y_train, predictions)\n",
    "            accuracy_epochs.append(epoch_accuracy)\n",
    "\n",
    "            print(f\"Epoch {epoch + 1}/{epochs}, Loss: {avg_epoch_loss:.4f}, Accuracy: {epoch_accuracy:.4f}\")\n",
    "\n",
    "        return loss_epochs, accuracy_epochs\n"
   ]
  },
  {
   "cell_type": "code",
   "execution_count": 51,
   "metadata": {},
   "outputs": [],
   "source": [
    "np.random.seed(42)\n",
    "\n",
    "layer1 = DenseLayer(784, 10)\n",
    "relu = ReLU()\n",
    "layer2 = DenseLayer(10, 10)\n",
    "loss_function = CategoricalCrossEntropyLoss()\n",
    "\n",
    "layers = [layer1, relu, layer2]\n",
    "\n",
    "nn = NeuralNetwork(layers, loss_function)"
   ]
  },
  {
   "cell_type": "code",
   "execution_count": 52,
   "metadata": {},
   "outputs": [
    {
     "name": "stdout",
     "output_type": "stream",
     "text": [
      "Total parameters: 7960\n"
     ]
    }
   ],
   "source": [
    "total_params = 0\n",
    "for layer_params in nn.params:\n",
    "    for param in layer_params:\n",
    "        total_params += np.prod(param.shape)\n",
    "print(f\"Total parameters: {total_params}\")"
   ]
  },
  {
   "cell_type": "code",
   "execution_count": 53,
   "metadata": {},
   "outputs": [
    {
     "name": "stdout",
     "output_type": "stream",
     "text": [
      "Epoch 1/100, Loss: 1.5283, Accuracy: 0.7901\n",
      "Epoch 2/100, Loss: 0.5612, Accuracy: 0.8744\n",
      "Epoch 3/100, Loss: 0.4140, Accuracy: 0.8937\n",
      "Epoch 4/100, Loss: 0.3672, Accuracy: 0.9027\n",
      "Epoch 5/100, Loss: 0.3444, Accuracy: 0.9058\n",
      "Epoch 6/100, Loss: 0.3300, Accuracy: 0.9085\n",
      "Epoch 7/100, Loss: 0.3188, Accuracy: 0.9131\n",
      "Epoch 8/100, Loss: 0.3094, Accuracy: 0.9155\n",
      "Epoch 9/100, Loss: 0.3013, Accuracy: 0.9166\n",
      "Epoch 10/100, Loss: 0.2950, Accuracy: 0.9190\n",
      "Epoch 11/100, Loss: 0.2892, Accuracy: 0.9204\n",
      "Epoch 12/100, Loss: 0.2848, Accuracy: 0.9190\n",
      "Epoch 13/100, Loss: 0.2813, Accuracy: 0.9223\n",
      "Epoch 14/100, Loss: 0.2776, Accuracy: 0.9232\n",
      "Epoch 15/100, Loss: 0.2751, Accuracy: 0.9249\n",
      "Epoch 16/100, Loss: 0.2721, Accuracy: 0.9257\n",
      "Epoch 17/100, Loss: 0.2702, Accuracy: 0.9260\n",
      "Epoch 18/100, Loss: 0.2681, Accuracy: 0.9256\n",
      "Epoch 19/100, Loss: 0.2658, Accuracy: 0.9270\n",
      "Epoch 20/100, Loss: 0.2642, Accuracy: 0.9285\n",
      "Epoch 21/100, Loss: 0.2618, Accuracy: 0.9265\n",
      "Epoch 22/100, Loss: 0.2599, Accuracy: 0.9275\n",
      "Epoch 23/100, Loss: 0.2584, Accuracy: 0.9296\n",
      "Epoch 24/100, Loss: 0.2566, Accuracy: 0.9286\n",
      "Epoch 25/100, Loss: 0.2554, Accuracy: 0.9304\n",
      "Epoch 26/100, Loss: 0.2537, Accuracy: 0.9303\n",
      "Epoch 27/100, Loss: 0.2522, Accuracy: 0.9310\n",
      "Epoch 28/100, Loss: 0.2504, Accuracy: 0.9314\n",
      "Epoch 29/100, Loss: 0.2492, Accuracy: 0.9313\n",
      "Epoch 30/100, Loss: 0.2475, Accuracy: 0.9301\n",
      "Epoch 31/100, Loss: 0.2464, Accuracy: 0.9313\n",
      "Epoch 32/100, Loss: 0.2446, Accuracy: 0.9332\n",
      "Epoch 33/100, Loss: 0.2433, Accuracy: 0.9334\n",
      "Epoch 34/100, Loss: 0.2419, Accuracy: 0.9340\n",
      "Epoch 35/100, Loss: 0.2409, Accuracy: 0.9336\n",
      "Epoch 36/100, Loss: 0.2394, Accuracy: 0.9344\n",
      "Epoch 37/100, Loss: 0.2384, Accuracy: 0.9350\n",
      "Epoch 38/100, Loss: 0.2371, Accuracy: 0.9353\n",
      "Epoch 39/100, Loss: 0.2357, Accuracy: 0.9349\n",
      "Epoch 40/100, Loss: 0.2347, Accuracy: 0.9331\n",
      "Epoch 41/100, Loss: 0.2339, Accuracy: 0.9372\n",
      "Epoch 42/100, Loss: 0.2329, Accuracy: 0.9353\n",
      "Epoch 43/100, Loss: 0.2318, Accuracy: 0.9355\n",
      "Epoch 44/100, Loss: 0.2310, Accuracy: 0.9377\n",
      "Epoch 45/100, Loss: 0.2299, Accuracy: 0.9371\n",
      "Epoch 46/100, Loss: 0.2289, Accuracy: 0.9359\n",
      "Epoch 47/100, Loss: 0.2283, Accuracy: 0.9374\n",
      "Epoch 48/100, Loss: 0.2274, Accuracy: 0.9386\n",
      "Epoch 49/100, Loss: 0.2265, Accuracy: 0.9374\n",
      "Epoch 50/100, Loss: 0.2256, Accuracy: 0.9383\n",
      "Epoch 51/100, Loss: 0.2250, Accuracy: 0.9386\n",
      "Epoch 52/100, Loss: 0.2245, Accuracy: 0.9396\n",
      "Epoch 53/100, Loss: 0.2236, Accuracy: 0.9393\n",
      "Epoch 54/100, Loss: 0.2226, Accuracy: 0.9380\n",
      "Epoch 55/100, Loss: 0.2218, Accuracy: 0.9386\n",
      "Epoch 56/100, Loss: 0.2215, Accuracy: 0.9391\n",
      "Epoch 57/100, Loss: 0.2206, Accuracy: 0.9398\n",
      "Epoch 58/100, Loss: 0.2202, Accuracy: 0.9394\n",
      "Epoch 59/100, Loss: 0.2193, Accuracy: 0.9399\n",
      "Epoch 60/100, Loss: 0.2182, Accuracy: 0.9391\n",
      "Epoch 61/100, Loss: 0.2175, Accuracy: 0.9386\n",
      "Epoch 62/100, Loss: 0.2170, Accuracy: 0.9403\n",
      "Epoch 63/100, Loss: 0.2162, Accuracy: 0.9405\n",
      "Epoch 64/100, Loss: 0.2158, Accuracy: 0.9401\n",
      "Epoch 65/100, Loss: 0.2150, Accuracy: 0.9411\n",
      "Epoch 66/100, Loss: 0.2144, Accuracy: 0.9399\n",
      "Epoch 67/100, Loss: 0.2139, Accuracy: 0.9408\n",
      "Epoch 68/100, Loss: 0.2130, Accuracy: 0.9417\n",
      "Epoch 69/100, Loss: 0.2121, Accuracy: 0.9409\n",
      "Epoch 70/100, Loss: 0.2115, Accuracy: 0.9418\n",
      "Epoch 71/100, Loss: 0.2107, Accuracy: 0.9399\n",
      "Epoch 72/100, Loss: 0.2104, Accuracy: 0.9421\n",
      "Epoch 73/100, Loss: 0.2095, Accuracy: 0.9428\n",
      "Epoch 74/100, Loss: 0.2088, Accuracy: 0.9423\n",
      "Epoch 75/100, Loss: 0.2081, Accuracy: 0.9425\n",
      "Epoch 76/100, Loss: 0.2077, Accuracy: 0.9415\n",
      "Epoch 77/100, Loss: 0.2070, Accuracy: 0.9433\n",
      "Epoch 78/100, Loss: 0.2063, Accuracy: 0.9429\n",
      "Epoch 79/100, Loss: 0.2059, Accuracy: 0.9430\n",
      "Epoch 80/100, Loss: 0.2050, Accuracy: 0.9435\n",
      "Epoch 81/100, Loss: 0.2043, Accuracy: 0.9428\n",
      "Epoch 82/100, Loss: 0.2040, Accuracy: 0.9433\n",
      "Epoch 83/100, Loss: 0.2031, Accuracy: 0.9429\n",
      "Epoch 84/100, Loss: 0.2026, Accuracy: 0.9429\n",
      "Epoch 85/100, Loss: 0.2015, Accuracy: 0.9424\n",
      "Epoch 86/100, Loss: 0.2016, Accuracy: 0.9440\n",
      "Epoch 87/100, Loss: 0.2011, Accuracy: 0.9440\n",
      "Epoch 88/100, Loss: 0.2002, Accuracy: 0.9429\n",
      "Epoch 89/100, Loss: 0.1995, Accuracy: 0.9435\n",
      "Epoch 90/100, Loss: 0.1989, Accuracy: 0.9448\n",
      "Epoch 91/100, Loss: 0.1987, Accuracy: 0.9447\n",
      "Epoch 92/100, Loss: 0.1978, Accuracy: 0.9448\n",
      "Epoch 93/100, Loss: 0.1974, Accuracy: 0.9440\n",
      "Epoch 94/100, Loss: 0.1970, Accuracy: 0.9454\n",
      "Epoch 95/100, Loss: 0.1965, Accuracy: 0.9456\n",
      "Epoch 96/100, Loss: 0.1956, Accuracy: 0.9440\n",
      "Epoch 97/100, Loss: 0.1952, Accuracy: 0.9447\n",
      "Epoch 98/100, Loss: 0.1951, Accuracy: 0.9460\n",
      "Epoch 99/100, Loss: 0.1946, Accuracy: 0.9461\n",
      "Epoch 100/100, Loss: 0.1938, Accuracy: 0.9452\n"
     ]
    }
   ],
   "source": [
    "loss_epochs, accuracy_epochs = nn.fit(X_train, y_train, epochs=100)"
   ]
  },
  {
   "cell_type": "code",
   "execution_count": 54,
   "metadata": {},
   "outputs": [
    {
     "name": "stdout",
     "output_type": "stream",
     "text": [
      "Test accuracy: 0.9325\n"
     ]
    }
   ],
   "source": [
    "# Test on new data\n",
    "y_pred = nn.predict(X_test.T)\n",
    "accuracy = np.mean(y_pred == y_test)\n",
    "print(f\"Test accuracy: {accuracy}\")"
   ]
  },
  {
   "cell_type": "code",
   "execution_count": 55,
   "metadata": {},
   "outputs": [
    {
     "data": {
      "image/png": "[encoded data removed]",
      "text/plain": [
       "<Figure size 1200x500 with 2 Axes>"
      ]
     },
     "metadata": {},
     "output_type": "display_data"
    }
   ],
   "source": [
    "# Plot loss and accuracy\n",
    "plt.figure(figsize=(12, 5))\n",
    "plt.subplot(1, 2, 1)\n",
    "plt.plot(loss_epochs)\n",
    "plt.title('Loss over epochs')\n",
    "plt.xlabel('Epochs')\n",
    "plt.ylabel('Loss')\n",
    "plt.subplot(1, 2, 2)\n",
    "plt.plot(accuracy_epochs)\n",
    "plt.title('Accuracy over epochs')\n",
    "plt.xlabel('Epochs')\n",
    "plt.ylabel('Accuracy')\n",
    "plt.show()"
   ]
  },
  {
   "cell_type": "code",
   "execution_count": null,
   "metadata": {},
   "outputs": [],
   "source": [
    "# Save the model\n",
    "import pickle\n",
    "with open('./models/nn_model_minibatch.pkl', 'wb') as f:\n",
    "    pickle.dump(nn, f)"
   ]
  },
  {
   "cell_type": "code",
   "execution_count": 57,
   "metadata": {},
   "outputs": [],
   "source": [
    "# Test individual training samples and plot the image\n",
    "def test_sample(sample_index):\n",
    "    plt.figure(figsize=(2, 2))\n",
    "    plt.imshow(X_test[sample_index].reshape(28, 28), cmap='gray')\n",
    "    plt.axis('off')\n",
    "    plt.show()\n",
    "    \n",
    "    # Predict the label\n",
    "    y_pred = nn.predict(X_test[sample_index].reshape(1, -1).T)\n",
    "    print(f\"Predicted label: {y_pred[0]}\")\n",
    "    "
   ]
  },
  {
   "cell_type": "code",
   "execution_count": 58,
   "metadata": {},
   "outputs": [
    {
     "data": {
      "image/png": "[encoded data removed]",
      "text/plain": [
       "<Figure size 200x200 with 1 Axes>"
      ]
     },
     "metadata": {},
     "output_type": "display_data"
    },
    {
     "name": "stdout",
     "output_type": "stream",
     "text": [
      "Predicted label: 6\n"
     ]
    }
   ],
   "source": [
    "test_sample(100)"
   ]
  },
  {
   "cell_type": "code",
   "execution_count": 59,
   "metadata": {},
   "outputs": [
    {
     "name": "stdout",
     "output_type": "stream",
     "text": [
      "Number of incorrect predictions: 675\n"
     ]
    }
   ],
   "source": [
    "# find the samples where it predicted incorrectly\n",
    "incorrect_indices = np.where(y_pred != y_test)[0]\n",
    "print(f\"Number of incorrect predictions: {len(incorrect_indices)}\")"
   ]
  },
  {
   "cell_type": "code",
   "execution_count": 60,
   "metadata": {},
   "outputs": [
    {
     "data": {
      "image/png": "[encoded data removed]",
      "text/plain": [
       "<Figure size 1000x200 with 5 Axes>"
      ]
     },
     "metadata": {},
     "output_type": "display_data"
    }
   ],
   "source": [
    "plt.figure(figsize=(10, 2))\n",
    "for idx, i in enumerate(incorrect_indices[:5]):\n",
    "    plt.subplot(1, 5, idx + 1)\n",
    "    plt.imshow(X_test[i].reshape(28, 28), cmap='gray')\n",
    "    plt.axis('off')\n",
    "    y_pred_label = nn.predict(X_test[i].reshape(1, -1).T)\n",
    "    plt.title(f\"Pred: {y_pred_label[0]}\")\n",
    "plt.show()"
   ]
  }
 ],
 "metadata": {
  "kernelspec": {
   "display_name": "venv",
   "language": "python",
   "name": "python3"
  },
  "language_info": {
   "codemirror_mode": {
    "name": "ipython",
    "version": 3
   },
   "file_extension": ".py",
   "mimetype": "text/x-python",
   "name": "python",
   "nbconvert_exporter": "python",
   "pygments_lexer": "ipython3",
   "version": "3.12.9"
  }
 },
 "nbformat": 4,
 "nbformat_minor": 2
}
