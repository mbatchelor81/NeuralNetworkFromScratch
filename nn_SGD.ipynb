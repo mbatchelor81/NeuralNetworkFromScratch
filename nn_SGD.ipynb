{
 "cells": [
  {
   "cell_type": "code",
   "execution_count": 1,
   "metadata": {},
   "outputs": [],
   "source": [
    "import numpy as np\n",
    "import matplotlib.pyplot as plt\n",
    "import pandas as pd\n",
    "import keras \n",
    "from keras.datasets import mnist"
   ]
  },
  {
   "cell_type": "markdown",
   "metadata": {},
   "source": [
    "### MNIST Data set neural network from scratch. In this exercise I have built out the structure and associated math for a simple feed forward neural network. In this example we will explore: \n",
    "- Matrix Manipulation\n",
    "- Feed Forward Network with Dense Layers\n",
    "- Categorical Cross Entropy Loss\n",
    "- Partial Derivatives for Backpropagation\n",
    "- Updating model parameters"
   ]
  },
  {
   "cell_type": "code",
   "execution_count": 2,
   "metadata": {},
   "outputs": [],
   "source": [
    "(train_features, train_targets), (test_features, test_targets) = mnist.load_data()"
   ]
  },
  {
   "cell_type": "code",
   "execution_count": 3,
   "metadata": {},
   "outputs": [
    {
     "name": "stdout",
     "output_type": "stream",
     "text": [
      "(60000, 784)\n",
      "(10000, 784)\n",
      "(60000,)\n",
      "(10000,)\n"
     ]
    }
   ],
   "source": [
    "# Format test and training data as 784 pixel vectors\n",
    "train_features = train_features.reshape((60000, 28 * 28))\n",
    "print(train_features.shape)\n",
    "test_features = test_features.reshape((10000, 28 * 28))\n",
    "print(test_features.shape)\n",
    "\n",
    "train_features = train_features.astype('float32') / 255\n",
    "test_features = test_features.astype('float32') / 255\n",
    "\n",
    "print(train_targets.shape)\n",
    "print(test_targets.shape)"
   ]
  },
  {
   "cell_type": "code",
   "execution_count": 4,
   "metadata": {},
   "outputs": [],
   "source": [
    "# Set up test and training data\n",
    "X_train = train_features\n",
    "y_train = train_targets\n",
    "X_test = test_features\n",
    "y_test = test_targets"
   ]
  },
  {
   "cell_type": "code",
   "execution_count": 5,
   "metadata": {},
   "outputs": [
    {
     "data": {
      "image/png": "[encoded data removed]",
      "text/plain": [
       "<Figure size 500x500 with 5 Axes>"
      ]
     },
     "metadata": {},
     "output_type": "display_data"
    },
    {
     "name": "stdout",
     "output_type": "stream",
     "text": [
      "label for each of the above images:  [5 0 4 1 9]\n"
     ]
    }
   ],
   "source": [
    "%matplotlib inline\n",
    "import matplotlib.pyplot as plt\n",
    "plt.figure(figsize=(5,5))\n",
    "for i in range(5):\n",
    "    plt.subplot(1, 5, i + 1)\n",
    "    plt.imshow(X_train[i].reshape(28, 28), cmap='gray')\n",
    "    plt.axis('off')\n",
    "plt.show()\n",
    "print(\"label for each of the above images: \", y_train[:5])"
   ]
  },
  {
   "cell_type": "markdown",
   "metadata": {},
   "source": [
    "#### Create Class Variables for Neural Network Architecture such as\n",
    "1. Dense Layers\n",
    "2. ReLU Layers\n",
    "3. Softmax activation function\n",
    "4. Categorical Cross Entropy Loss"
   ]
  },
  {
   "cell_type": "code",
   "execution_count": 6,
   "metadata": {},
   "outputs": [],
   "source": [
    "class DenseLayer: \n",
    "\n",
    "    def __init__(self, input_size, output_size):\n",
    "        self.W, self.b = self.init_params(input_size, output_size)\n",
    "        self.params = [self.W, self.b]\n",
    "        self.gradW = None\n",
    "        self.gradB = None\n",
    "        self.gradInput = None\n",
    "        \n",
    "    def init_params(self, input_size, output_size):\n",
    "        # Initialize weights and biases\n",
    "        W = np.random.randn(output_size, input_size) * 0.01\n",
    "        b = np.zeros((output_size, 1))\n",
    "        return W, b\n",
    "\n",
    "    def forward(self, X):\n",
    "        \"\"\"\n",
    "            Input: X (input data) or A[L-1] (activations from previous layer)\n",
    "            Output: Z[L] (output of the layer) where Z[L] = W[L] @ A[L-1] + b[L]\n",
    "        \"\"\"\n",
    "        self.A = X\n",
    "        self.Z = self.W @ self.A + self.b\n",
    "        return self.Z\n",
    "    \n",
    "    def backward(self, nextGradient):\n",
    "        # back propogate the layers where dL/dW[L] = dL/dZ[L] @ A[L-1].T \n",
    "        self.dW = nextGradient @ self.A.T\n",
    "        # db is sum of the gradients over all samples\n",
    "        self.db = np.sum(nextGradient, axis=1, keepdims=True)\n",
    "        # set up next grad input where dL/dA[L-1] = dL/dZ[L] @ W[L].T\n",
    "        self.gradInput = self.W.T @ nextGradient\n",
    "        return self.gradInput, [self.dW, self.db]\n",
    "    \n",
    "    def __str__(self):\n",
    "        return f\"W Dimension: {self.W.shape}\\nb Dimension: {self.b.shape}\""
   ]
  },
  {
   "cell_type": "code",
   "execution_count": 7,
   "metadata": {},
   "outputs": [],
   "source": [
    "class ReLU:\n",
    "    def __init__(self):\n",
    "        self.params = []\n",
    "        self.gradInput = None\n",
    "\n",
    "    def forward(self, Z):\n",
    "        \"\"\"\n",
    "            Input: Pass non activated Z[L] to ReLU\n",
    "            Output: A[L] = ReLU(Z[L]) where Z[L] = W[L] @ A[L-1] + b[L]\n",
    "        \"\"\" \n",
    "        self.Z = Z\n",
    "        self.A = np.maximum(Z, 0)\n",
    "        return self.A\n",
    "    \n",
    "    def backward(self, nextGrad):\n",
    "        \"\"\"\n",
    "            Input: nextGrad (gradient from next layer)\n",
    "            Output: gradInput (gradient of the loss with respect to the input of this layer)\n",
    "        \"\"\"\n",
    "        self.gradInput = nextGrad.copy()\n",
    "        self.gradInput[self.A <= 0] = 0\n",
    "        return self.gradInput, []\n",
    "\n",
    "    def __str__(self):\n",
    "        return f\"ReLU Activation\""
   ]
  },
  {
   "cell_type": "code",
   "execution_count": 8,
   "metadata": {},
   "outputs": [],
   "source": [
    "class CategoricalCrossEntropyLoss():\n",
    "    def __init__(self):\n",
    "        self.params = []\n",
    "    \n",
    "    def forward(self, y_true, y_pred):\n",
    "        \"\"\"\n",
    "            Input: y_true (actual labels) and y_pred (predicted labels)\n",
    "            Output: Loss value\n",
    "        \"\"\"\n",
    "        self.y_true = y_true\n",
    "        self.y_pred = np.clip(y_pred, 1e-15, 1 - 1e-15) \n",
    "        \n",
    "        # shape is 10 x m thus sum down columns with axis = 0 \n",
    "        self.loss = -np.mean(np.sum(self.y_true * np.log(self.y_pred), axis = 0))\n",
    "        return self.loss\n",
    "    \n",
    "    def backward(self, y_true, y_pred):\n",
    "        \"\"\"\n",
    "            Input: y_true (actual labels) and y_pred (predicted labels)\n",
    "            Output: Gradient of the loss with respect to the predicted labels\n",
    "        \"\"\"\n",
    "        grad = y_pred.copy()         # shape: (10, 60000)\n",
    "        grad -= y_true               # element-wise subtraction\n",
    "        grad /= y_true.shape[1]      # divide by 60000 (the number of samples)\n",
    "        return grad\n",
    "    \n",
    "    def __str__(self):\n",
    "        return f\"Categorical Cross Entropy Loss\""
   ]
  },
  {
   "cell_type": "code",
   "execution_count": 9,
   "metadata": {},
   "outputs": [],
   "source": [
    "def softmax(x):\n",
    "    \"\"\"\n",
    "        Softmax function to convert logits to probabilities\n",
    "        Input: x (logits)\n",
    "        Output: softmax(x) (probabilities)\n",
    "    \"\"\"\n",
    "    e_x = np.exp(x - np.max(x))\n",
    "    return e_x / e_x.sum(axis=0)\n",
    "\n",
    "def one_hot_encode(y, num_classes):\n",
    "    \"\"\"\n",
    "        One-hot encode the labels\n",
    "        Input: y (labels) and num_classes (number of classes)\n",
    "        Output: one-hot encoded labels\n",
    "    \"\"\"\n",
    "    return np.eye(num_classes)[y].T"
   ]
  },
  {
   "cell_type": "code",
   "execution_count": 10,
   "metadata": {},
   "outputs": [],
   "source": [
    "class NeuralNetwork():\n",
    "    def __init__(self, layers, loss_function=CategoricalCrossEntropyLoss()):\n",
    "        \"\"\"\n",
    "        Neural Network class to hold the layers, loss function, and training methods.\n",
    "        Input: layers (list of layers) and loss_function (loss function)\n",
    "        \"\"\"\n",
    "        self.layers = layers\n",
    "        self.params = [layer.params for layer in layers if hasattr(layer, 'params')]\n",
    "        self.grads = []\n",
    "        self.loss_function = loss_function\n",
    "\n",
    "    def forward(self, X):\n",
    "        for layer in self.layers:\n",
    "            X = layer.forward(X)\n",
    "        return X\n",
    "\n",
    "    def backward(self, y_true, y_pred):\n",
    "        self.grads = []\n",
    "        next_grad = self.loss_function.backward(y_true, y_pred)\n",
    "        for layer in reversed(self.layers):\n",
    "            next_grad, grad = layer.backward(next_grad)\n",
    "            self.grads.append(grad)\n",
    "        # Reverse grads so they align with the order of self.layers\n",
    "        self.grads.reverse()\n",
    "        return self.grads\n",
    "\n",
    "    def predict(self, X):\n",
    "        \"\"\"\n",
    "        Input: X (input data)\n",
    "        Output: y_pred (predicted labels)\n",
    "        \"\"\"\n",
    "        y_pred = self.forward(X)\n",
    "        y_hat = softmax(y_pred)\n",
    "        return np.argmax(y_hat, axis=0)\n",
    "\n",
    "    def update_params(self, learning_rate=0.01):\n",
    "        \"\"\"\n",
    "        Update parameters using gradient descent.\n",
    "        Input: learning_rate (learning rate for the update)\n",
    "        \"\"\"\n",
    "        for layer, grad in zip(self.layers, self.grads):\n",
    "            if hasattr(layer, 'params'):\n",
    "                for i, _ in enumerate(layer.params):\n",
    "                    layer.params[i] -= learning_rate * grad[i]\n",
    "\n",
    "    def accuracy(self, y_true, y_hat):\n",
    "        return np.mean(y_true == y_hat)\n",
    "                    \n",
    "    def fit(self, X_train, y_train, epochs=1, learning_rate=0.01):\n",
    "        \"\"\"\n",
    "        Train the network using stochastic gradient descent.\n",
    "        X_train: Training data with shape (n_samples, n_features)\n",
    "        y_train: Training labels (n_samples,)\n",
    "        \"\"\"\n",
    "        n_samples = X_train.shape[0]\n",
    "        num_classes = len(np.unique(y_train))  # Or infer from your dataset\n",
    "        loss_epochs = []\n",
    "        accuracy_epochs = []\n",
    "\n",
    "        for epoch in range(epochs):\n",
    "            # Shuffle the data at the start of each epoch\n",
    "            indices = np.arange(n_samples)\n",
    "            np.random.shuffle(indices)\n",
    "            X_train_shuffled = X_train[indices]\n",
    "            y_train_shuffled = y_train[indices]\n",
    "\n",
    "            epoch_loss = 0\n",
    "\n",
    "            # Process one sample at a time\n",
    "            for i in range(n_samples):\n",
    "                # Extract the i-th sample and its label\n",
    "                # Reshape x_i to (n_features, 1) for consistency with our network input\n",
    "                x_i = X_train_shuffled[i:i+1].T  \n",
    "                y_i = y_train_shuffled[i:i+1]     # y_i is a scalar or a 1D array with one element\n",
    "\n",
    "                # Convert the label to one-hot encoding\n",
    "                y_true = one_hot_encode(y_i, num_classes)  # Shape: (num_classes, 1)\n",
    "\n",
    "                # Forward pass: get predictions for a single sample\n",
    "                y_pred = self.forward(x_i)\n",
    "                y_hat = softmax(y_pred)  # Ensure predictions are probabilities\n",
    "\n",
    "                # Compute the loss for this sample\n",
    "                loss_sample = self.loss_function.forward(y_true, y_hat)\n",
    "                epoch_loss += loss_sample\n",
    "\n",
    "                # Backward pass: compute gradients for this sample\n",
    "                self.backward(y_true, y_hat)\n",
    "\n",
    "                # Update parameters using the computed gradients\n",
    "                self.update_params(learning_rate)\n",
    "\n",
    "            # Compute average loss for the epoch\n",
    "            avg_epoch_loss = epoch_loss / n_samples\n",
    "            loss_epochs.append(avg_epoch_loss)\n",
    "\n",
    "            # Compute accuracy over the entire training set (optional)\n",
    "            y_pred_all = self.forward(X_train.T)\n",
    "            y_hat_all = softmax(y_pred_all)\n",
    "            predictions = np.argmax(y_hat_all, axis=0)\n",
    "            epoch_accuracy = np.mean(predictions == y_train)\n",
    "            accuracy_epochs.append(epoch_accuracy)\n",
    "\n",
    "            print(f\"Epoch {epoch + 1}/{epochs}, Loss: {avg_epoch_loss:.4f}, Accuracy: {epoch_accuracy:.4f}\")\n",
    "\n",
    "        return loss_epochs, accuracy_epochs\n"
   ]
  },
  {
   "cell_type": "code",
   "execution_count": 11,
   "metadata": {},
   "outputs": [],
   "source": [
    "np.random.seed(42)\n",
    "\n",
    "layer1 = DenseLayer(784, 10)\n",
    "relu = ReLU()\n",
    "layer2 = DenseLayer(10, 10)\n",
    "loss_function = CategoricalCrossEntropyLoss()\n",
    "\n",
    "layers = [layer1, relu, layer2]\n",
    "\n",
    "nn = NeuralNetwork(layers, loss_function)"
   ]
  },
  {
   "cell_type": "code",
   "execution_count": 12,
   "metadata": {},
   "outputs": [
    {
     "name": "stdout",
     "output_type": "stream",
     "text": [
      "Total parameters: 7960\n"
     ]
    }
   ],
   "source": [
    "total_params = 0\n",
    "for layer_params in nn.params:\n",
    "    for param in layer_params:\n",
    "        total_params += np.prod(param.shape)\n",
    "print(f\"Total parameters: {total_params}\")"
   ]
  },
  {
   "cell_type": "code",
   "execution_count": 13,
   "metadata": {},
   "outputs": [
    {
     "name": "stdout",
     "output_type": "stream",
     "text": [
      "Epoch 1/100, Loss: 0.4159, Accuracy: 0.9189\n",
      "Epoch 2/100, Loss: 0.2886, Accuracy: 0.9264\n",
      "Epoch 3/100, Loss: 0.2637, Accuracy: 0.9267\n",
      "Epoch 4/100, Loss: 0.2503, Accuracy: 0.9228\n",
      "Epoch 5/100, Loss: 0.2413, Accuracy: 0.9249\n",
      "Epoch 6/100, Loss: 0.2355, Accuracy: 0.9332\n",
      "Epoch 7/100, Loss: 0.2296, Accuracy: 0.9413\n",
      "Epoch 8/100, Loss: 0.2242, Accuracy: 0.9317\n",
      "Epoch 9/100, Loss: 0.2210, Accuracy: 0.9314\n",
      "Epoch 10/100, Loss: 0.2180, Accuracy: 0.9410\n",
      "Epoch 11/100, Loss: 0.2171, Accuracy: 0.9377\n",
      "Epoch 12/100, Loss: 0.2137, Accuracy: 0.9384\n",
      "Epoch 13/100, Loss: 0.2118, Accuracy: 0.9353\n",
      "Epoch 14/100, Loss: 0.2121, Accuracy: 0.9446\n",
      "Epoch 15/100, Loss: 0.2087, Accuracy: 0.9377\n",
      "Epoch 16/100, Loss: 0.2065, Accuracy: 0.9347\n",
      "Epoch 17/100, Loss: 0.2058, Accuracy: 0.9487\n",
      "Epoch 18/100, Loss: 0.2046, Accuracy: 0.9455\n",
      "Epoch 19/100, Loss: 0.2019, Accuracy: 0.9492\n",
      "Epoch 20/100, Loss: 0.2008, Accuracy: 0.9505\n",
      "Epoch 21/100, Loss: 0.2009, Accuracy: 0.9490\n",
      "Epoch 22/100, Loss: 0.1999, Accuracy: 0.9421\n",
      "Epoch 23/100, Loss: 0.1975, Accuracy: 0.9478\n",
      "Epoch 24/100, Loss: 0.1983, Accuracy: 0.9518\n",
      "Epoch 25/100, Loss: 0.1976, Accuracy: 0.9377\n",
      "Epoch 26/100, Loss: 0.1961, Accuracy: 0.9299\n",
      "Epoch 27/100, Loss: 0.1960, Accuracy: 0.9418\n",
      "Epoch 28/100, Loss: 0.1941, Accuracy: 0.9450\n",
      "Epoch 29/100, Loss: 0.1948, Accuracy: 0.9409\n",
      "Epoch 30/100, Loss: 0.1938, Accuracy: 0.9311\n",
      "Epoch 31/100, Loss: 0.1917, Accuracy: 0.9441\n",
      "Epoch 32/100, Loss: 0.1923, Accuracy: 0.9458\n",
      "Epoch 33/100, Loss: 0.1905, Accuracy: 0.9529\n",
      "Epoch 34/100, Loss: 0.1905, Accuracy: 0.9490\n",
      "Epoch 35/100, Loss: 0.1910, Accuracy: 0.9486\n",
      "Epoch 36/100, Loss: 0.1900, Accuracy: 0.9499\n",
      "Epoch 37/100, Loss: 0.1870, Accuracy: 0.9486\n",
      "Epoch 38/100, Loss: 0.1908, Accuracy: 0.9541\n",
      "Epoch 39/100, Loss: 0.1876, Accuracy: 0.9471\n",
      "Epoch 40/100, Loss: 0.1884, Accuracy: 0.9432\n",
      "Epoch 41/100, Loss: 0.1868, Accuracy: 0.9513\n",
      "Epoch 42/100, Loss: 0.1876, Accuracy: 0.9531\n",
      "Epoch 43/100, Loss: 0.1888, Accuracy: 0.9490\n",
      "Epoch 44/100, Loss: 0.1849, Accuracy: 0.9545\n",
      "Epoch 45/100, Loss: 0.1867, Accuracy: 0.9508\n",
      "Epoch 46/100, Loss: 0.1841, Accuracy: 0.9497\n",
      "Epoch 47/100, Loss: 0.1846, Accuracy: 0.9441\n",
      "Epoch 48/100, Loss: 0.1858, Accuracy: 0.9518\n",
      "Epoch 49/100, Loss: 0.1848, Accuracy: 0.9451\n",
      "Epoch 50/100, Loss: 0.1851, Accuracy: 0.9486\n",
      "Epoch 51/100, Loss: 0.1838, Accuracy: 0.9454\n",
      "Epoch 52/100, Loss: 0.1846, Accuracy: 0.9499\n",
      "Epoch 53/100, Loss: 0.1841, Accuracy: 0.9425\n",
      "Epoch 54/100, Loss: 0.1837, Accuracy: 0.9465\n",
      "Epoch 55/100, Loss: 0.1829, Accuracy: 0.9449\n",
      "Epoch 56/100, Loss: 0.1837, Accuracy: 0.9458\n",
      "Epoch 57/100, Loss: 0.1823, Accuracy: 0.9516\n",
      "Epoch 58/100, Loss: 0.1820, Accuracy: 0.9452\n",
      "Epoch 59/100, Loss: 0.1821, Accuracy: 0.9439\n",
      "Epoch 60/100, Loss: 0.1819, Accuracy: 0.9480\n",
      "Epoch 61/100, Loss: 0.1827, Accuracy: 0.9487\n",
      "Epoch 62/100, Loss: 0.1803, Accuracy: 0.9506\n",
      "Epoch 63/100, Loss: 0.1814, Accuracy: 0.9523\n",
      "Epoch 64/100, Loss: 0.1792, Accuracy: 0.9475\n",
      "Epoch 65/100, Loss: 0.1813, Accuracy: 0.9475\n",
      "Epoch 66/100, Loss: 0.1807, Accuracy: 0.9516\n",
      "Epoch 67/100, Loss: 0.1791, Accuracy: 0.9528\n",
      "Epoch 68/100, Loss: 0.1799, Accuracy: 0.9504\n",
      "Epoch 69/100, Loss: 0.1791, Accuracy: 0.9490\n",
      "Epoch 70/100, Loss: 0.1805, Accuracy: 0.9524\n",
      "Epoch 71/100, Loss: 0.1789, Accuracy: 0.9475\n",
      "Epoch 72/100, Loss: 0.1790, Accuracy: 0.9424\n",
      "Epoch 73/100, Loss: 0.1802, Accuracy: 0.9479\n",
      "Epoch 74/100, Loss: 0.1791, Accuracy: 0.9538\n",
      "Epoch 75/100, Loss: 0.1798, Accuracy: 0.9539\n",
      "Epoch 76/100, Loss: 0.1795, Accuracy: 0.9434\n",
      "Epoch 77/100, Loss: 0.1790, Accuracy: 0.9497\n",
      "Epoch 78/100, Loss: 0.1783, Accuracy: 0.9406\n",
      "Epoch 79/100, Loss: 0.1798, Accuracy: 0.9507\n",
      "Epoch 80/100, Loss: 0.1796, Accuracy: 0.9487\n",
      "Epoch 81/100, Loss: 0.1796, Accuracy: 0.9523\n",
      "Epoch 82/100, Loss: 0.1776, Accuracy: 0.9561\n",
      "Epoch 83/100, Loss: 0.1780, Accuracy: 0.9505\n",
      "Epoch 84/100, Loss: 0.1781, Accuracy: 0.9504\n",
      "Epoch 85/100, Loss: 0.1782, Accuracy: 0.9487\n",
      "Epoch 86/100, Loss: 0.1752, Accuracy: 0.9522\n",
      "Epoch 87/100, Loss: 0.1778, Accuracy: 0.9568\n",
      "Epoch 88/100, Loss: 0.1774, Accuracy: 0.9498\n",
      "Epoch 89/100, Loss: 0.1774, Accuracy: 0.9474\n",
      "Epoch 90/100, Loss: 0.1769, Accuracy: 0.9579\n",
      "Epoch 91/100, Loss: 0.1770, Accuracy: 0.9488\n",
      "Epoch 92/100, Loss: 0.1760, Accuracy: 0.9498\n",
      "Epoch 93/100, Loss: 0.1770, Accuracy: 0.9502\n",
      "Epoch 94/100, Loss: 0.1758, Accuracy: 0.9463\n",
      "Epoch 95/100, Loss: 0.1754, Accuracy: 0.9476\n",
      "Epoch 96/100, Loss: 0.1758, Accuracy: 0.9524\n",
      "Epoch 97/100, Loss: 0.1767, Accuracy: 0.9508\n",
      "Epoch 98/100, Loss: 0.1762, Accuracy: 0.9511\n",
      "Epoch 99/100, Loss: 0.1767, Accuracy: 0.9579\n",
      "Epoch 100/100, Loss: 0.1763, Accuracy: 0.9494\n"
     ]
    }
   ],
   "source": [
    "loss_epochs, accuracy_epochs = nn.fit(X_train, y_train, epochs=100)"
   ]
  },
  {
   "cell_type": "code",
   "execution_count": 14,
   "metadata": {},
   "outputs": [
    {
     "name": "stdout",
     "output_type": "stream",
     "text": [
      "Test accuracy: 0.9322\n"
     ]
    }
   ],
   "source": [
    "# Test on new data\n",
    "y_pred = nn.predict(X_test.T)\n",
    "accuracy = np.mean(y_pred == y_test)\n",
    "print(f\"Test accuracy: {accuracy}\")"
   ]
  },
  {
   "cell_type": "code",
   "execution_count": 15,
   "metadata": {},
   "outputs": [
    {
     "data": {
      "image/png": "[encoded data removed]",
      "text/plain": [
       "<Figure size 1200x500 with 2 Axes>"
      ]
     },
     "metadata": {},
     "output_type": "display_data"
    }
   ],
   "source": [
    "# Plot loss and accuracy\n",
    "plt.figure(figsize=(12, 5))\n",
    "plt.subplot(1, 2, 1)\n",
    "plt.plot(loss_epochs)\n",
    "plt.title('Loss over epochs')\n",
    "plt.xlabel('Epochs')\n",
    "plt.ylabel('Loss')\n",
    "plt.subplot(1, 2, 2)\n",
    "plt.plot(accuracy_epochs)\n",
    "plt.title('Accuracy over epochs')\n",
    "plt.xlabel('Epochs')\n",
    "plt.ylabel('Accuracy')\n",
    "plt.show()"
   ]
  },
  {
   "cell_type": "code",
   "execution_count": null,
   "metadata": {},
   "outputs": [],
   "source": [
    "# Save the model\n",
    "import pickle\n",
    "with open('./models/nn_model_sgd.pkl', 'wb') as f:\n",
    "    pickle.dump(nn, f)"
   ]
  },
  {
   "cell_type": "code",
   "execution_count": 17,
   "metadata": {},
   "outputs": [],
   "source": [
    "# Test individual training samples and plot the image\n",
    "def test_sample(sample_index):\n",
    "    plt.figure(figsize=(2, 2))\n",
    "    plt.imshow(X_test[sample_index].reshape(28, 28), cmap='gray')\n",
    "    plt.axis('off')\n",
    "    plt.show()\n",
    "    \n",
    "    # Predict the label\n",
    "    y_pred = nn.predict(X_test[sample_index].reshape(1, -1).T)\n",
    "    print(f\"Predicted label: {y_pred[0]}\")\n",
    "    "
   ]
  },
  {
   "cell_type": "code",
   "execution_count": 18,
   "metadata": {},
   "outputs": [
    {
     "data": {
      "image/png": "[encoded data removed]",
      "text/plain": [
       "<Figure size 200x200 with 1 Axes>"
      ]
     },
     "metadata": {},
     "output_type": "display_data"
    },
    {
     "name": "stdout",
     "output_type": "stream",
     "text": [
      "Predicted label: 6\n"
     ]
    }
   ],
   "source": [
    "test_sample(100)"
   ]
  },
  {
   "cell_type": "code",
   "execution_count": 19,
   "metadata": {},
   "outputs": [
    {
     "name": "stdout",
     "output_type": "stream",
     "text": [
      "Number of incorrect predictions: 678\n"
     ]
    }
   ],
   "source": [
    "# find the samples where it predicted incorrectly\n",
    "incorrect_indices = np.where(y_pred != y_test)[0]\n",
    "print(f\"Number of incorrect predictions: {len(incorrect_indices)}\")"
   ]
  },
  {
   "cell_type": "code",
   "execution_count": 20,
   "metadata": {},
   "outputs": [
    {
     "data": {
      "image/png": "[encoded data removed]",
      "text/plain": [
       "<Figure size 1000x200 with 5 Axes>"
      ]
     },
     "metadata": {},
     "output_type": "display_data"
    }
   ],
   "source": [
    "plt.figure(figsize=(10, 2))\n",
    "for idx, i in enumerate(incorrect_indices[:5]):\n",
    "    plt.subplot(1, 5, idx + 1)\n",
    "    plt.imshow(X_test[i].reshape(28, 28), cmap='gray')\n",
    "    plt.axis('off')\n",
    "    y_pred_label = nn.predict(X_test[i].reshape(1, -1).T)\n",
    "    plt.title(f\"Pred: {y_pred_label[0]}\")\n",
    "plt.show()"
   ]
  }
 ],
 "metadata": {
  "kernelspec": {
   "display_name": "venv",
   "language": "python",
   "name": "python3"
  },
  "language_info": {
   "codemirror_mode": {
    "name": "ipython",
    "version": 3
   },
   "file_extension": ".py",
   "mimetype": "text/x-python",
   "name": "python",
   "nbconvert_exporter": "python",
   "pygments_lexer": "ipython3",
   "version": "3.12.9"
  }
 },
 "nbformat": 4,
 "nbformat_minor": 2
}
